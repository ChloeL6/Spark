{
 "cells": [
  {
   "cell_type": "code",
   "execution_count": 1,
   "metadata": {},
   "outputs": [
    {
     "name": "stderr",
     "output_type": "stream",
     "text": [
      "your 131072x1 screen size is bogus. expect trouble\n"
     ]
    },
    {
     "name": "stdout",
     "output_type": "stream",
     "text": [
      "23/02/10 09:38:30 WARN Utils: Your hostname, DESKTOP-SU1U0NI resolves to a loopback address: 127.0.1.1; using 172.21.251.109 instead (on interface eth0)\n",
      "23/02/10 09:38:30 WARN Utils: Set SPARK_LOCAL_IP if you need to bind to another address\n"
     ]
    },
    {
     "name": "stderr",
     "output_type": "stream",
     "text": [
      "Setting default log level to \"WARN\".\n",
      "To adjust logging level use sc.setLogLevel(newLevel). For SparkR, use setLogLevel(newLevel).\n"
     ]
    },
    {
     "name": "stdout",
     "output_type": "stream",
     "text": [
      "23/02/10 09:38:33 WARN NativeCodeLoader: Unable to load native-hadoop library for your platform... using builtin-java classes where applicable\n"
     ]
    }
   ],
   "source": [
    "from pyspark.sql import SparkSession\n",
    "import pandas as pd\n",
    "import os\n",
    "import pyspark.sql.functions as sf      # sf = spark functions\n",
    "import pyspark.sql.types as st          # st = spark types\n",
    "\n",
    "#create Spark Session\n",
    "spark = SparkSession.builder.getOrCreate()"
   ]
  },
  {
   "cell_type": "code",
   "execution_count": 25,
   "metadata": {},
   "outputs": [
    {
     "name": "stderr",
     "output_type": "stream",
     "text": [
      "[Stage 6:>                                                          (0 + 1) / 1]\r"
     ]
    },
    {
     "name": "stdout",
     "output_type": "stream",
     "text": [
      "+----------+------+------+------+------+-------+--------+----------+---------+------------+\n",
      "|      date|  open|  high|   low| close| volume|currency|open_close| high_low|check_volume|\n",
      "+----------+------+------+------+------+-------+--------+----------+---------+------------+\n",
      "|2000-01-03|122.25| 124.0| 116.1| 116.5| 6640.0|     USD|      5.75|7.9000015|        true|\n",
      "|2000-01-04|116.25| 120.5|115.75|116.25| 5492.0|     USD|       0.0|     4.75|        true|\n",
      "|2000-01-05| 115.0| 121.0| 115.0| 118.6| 6165.0|     USD|-3.5999985|      6.0|        true|\n",
      "|2000-01-06| 119.0| 121.4| 116.5|116.85| 5094.0|     USD| 2.1500015|4.9000015|        true|\n",
      "|2000-01-07|117.25|117.75| 113.8|114.15| 6855.0|     USD| 3.0999985| 3.949997|        true|\n",
      "|2000-01-10| 123.5| 126.0| 116.7|117.55| 7499.0|     USD|  5.949997| 9.300003|        true|\n",
      "|2000-01-11| 115.5|118.25| 115.5| 117.8| 3976.0|     USD| -2.300003|     2.75|        true|\n",
      "|2000-01-12| 117.8| 120.5| 116.9|118.95| 5184.0|     USD|-1.1499939|3.5999985|        true|\n",
      "|2000-01-13|119.25| 120.0| 117.5|118.55| 3717.0|     USD|0.69999695|      2.5|        true|\n",
      "|2000-01-14|117.75|120.25|112.25|112.55|10115.0|     USD|  5.199997|      8.0|        true|\n",
      "+----------+------+------+------+------+-------+--------+----------+---------+------------+\n",
      "only showing top 10 rows\n",
      "\n"
     ]
    },
    {
     "name": "stderr",
     "output_type": "stream",
     "text": [
      "                                                                                \r"
     ]
    }
   ],
   "source": [
    "# file path\n",
    "data_dir = \"./data\"\n",
    "file_name = 'coffee.csv'\n",
    "\n",
    "# define schema and read file into DataFrame\n",
    "schema = \"Date date, Open float, High float, Low float, Close float, Volume float, Currency string\"\n",
    "df = spark.read.csv(os.path.join(data_dir,file_name), schema=schema, header=True, enforceSchema=True)\n",
    "\n",
    "# rename all columns to lower case\n",
    "for col in df.columns:\n",
    "  df = df.withColumnRenamed(col, col.lower())\n",
    "\n",
    "# calculate (open - close), (high-low), volume\n",
    "check_daily_volume = sf.udf(lambda x: True if x > 100 else False)\n",
    "\n",
    "df = df.withColumn('open_close', (sf.col('open') - sf.col('close')))\n",
    "df = df.withColumn('high_low', (sf.col('high') - sf.col('low')).cast('float'))\n",
    "df = df.withColumn('check_volume', check_daily_volume(sf.col('volume')))\n",
    "\n",
    "df.show(10)"
   ]
  }
 ],
 "metadata": {
  "kernelspec": {
   "display_name": "venv",
   "language": "python",
   "name": "python3"
  },
  "language_info": {
   "codemirror_mode": {
    "name": "ipython",
    "version": 3
   },
   "file_extension": ".py",
   "mimetype": "text/x-python",
   "name": "python",
   "nbconvert_exporter": "python",
   "pygments_lexer": "ipython3",
   "version": "3.7.15"
  },
  "orig_nbformat": 4,
  "vscode": {
   "interpreter": {
    "hash": "5764f61ad5e529d37b227a4f0567b66f481f89bd8c15c84067bddf38ce964b1d"
   }
  }
 },
 "nbformat": 4,
 "nbformat_minor": 2
}
