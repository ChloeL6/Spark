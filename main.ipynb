{
 "cells": [
  {
   "cell_type": "code",
   "execution_count": null,
   "metadata": {},
   "outputs": [],
   "source": [
    "from pyspark.sql import SparkSession\n",
    "import pandas as pd\n",
    "import os\n",
    "import pyspark.sql.functions as sf      # sf = spark functions\n",
    "import pyspark.sql.types as st          # st = spark types\n",
    "\n",
    "#create Spark Session\n",
    "spark = SparkSession.builder.getOrCreate()"
   ]
  },
  {
   "cell_type": "code",
   "execution_count": null,
   "metadata": {},
   "outputs": [],
   "source": [
    "#read data file\n",
    "data_dir = \"./data\"\n",
    "file_name = '...'\n",
    "\n",
    "df = spark.read.csv(os.path.join(data_dir,file_name), header=True, enforceSchema=True)"
   ]
  }
 ],
 "metadata": {
  "kernelspec": {
   "display_name": "venv",
   "language": "python",
   "name": "python3"
  },
  "language_info": {
   "name": "python",
   "version": "3.7.15"
  },
  "orig_nbformat": 4,
  "vscode": {
   "interpreter": {
    "hash": "5764f61ad5e529d37b227a4f0567b66f481f89bd8c15c84067bddf38ce964b1d"
   }
  }
 },
 "nbformat": 4,
 "nbformat_minor": 2
}
