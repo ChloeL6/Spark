{
 "cells": [
  {
   "cell_type": "code",
   "execution_count": 1,
   "metadata": {},
   "outputs": [
    {
     "name": "stderr",
     "output_type": "stream",
     "text": [
      "your 131072x1 screen size is bogus. expect trouble\n"
     ]
    },
    {
     "name": "stdout",
     "output_type": "stream",
     "text": [
      "23/02/10 09:38:30 WARN Utils: Your hostname, DESKTOP-SU1U0NI resolves to a loopback address: 127.0.1.1; using 172.21.251.109 instead (on interface eth0)\n",
      "23/02/10 09:38:30 WARN Utils: Set SPARK_LOCAL_IP if you need to bind to another address\n"
     ]
    },
    {
     "name": "stderr",
     "output_type": "stream",
     "text": [
      "Setting default log level to \"WARN\".\n",
      "To adjust logging level use sc.setLogLevel(newLevel). For SparkR, use setLogLevel(newLevel).\n"
     ]
    },
    {
     "name": "stdout",
     "output_type": "stream",
     "text": [
      "23/02/10 09:38:33 WARN NativeCodeLoader: Unable to load native-hadoop library for your platform... using builtin-java classes where applicable\n"
     ]
    }
   ],
   "source": [
    "from pyspark.sql import SparkSession\n",
    "import pandas as pd\n",
    "import os\n",
    "import pyspark.sql.functions as sf      # sf = spark functions\n",
    "import pyspark.sql.types as st          # st = spark types\n",
    "\n",
    "#create Spark Session\n",
    "spark = SparkSession.builder.getOrCreate()"
   ]
  },
  {
   "cell_type": "code",
   "execution_count": 67,
   "metadata": {},
   "outputs": [
    {
     "name": "stderr",
     "output_type": "stream",
     "text": [
      "                                                                                \r"
     ]
    },
    {
     "name": "stdout",
     "output_type": "stream",
     "text": [
      "done\n"
     ]
    }
   ],
   "source": [
    "# file path\n",
    "data_dir = \"./data\"\n",
    "file_name = 'coffee.csv'\n",
    "\n",
    "# define schema and read file into DataFrame\n",
    "schema = \"Date date, Open float, High float, Low float, Close float, Volume float, Currency string\"\n",
    "df = spark.read.csv(os.path.join(data_dir,file_name), schema=schema, header=True, enforceSchema=True)\n",
    "\n",
    "# rename all columns to lower case\n",
    "for col in df.columns:\n",
    "  df = df.withColumnRenamed(col, col.lower())\n",
    "\n",
    "# calculate (open - close), (high-low), volume\n",
    "  # create udf function\n",
    "check_daily_volume = sf.udf(lambda x: True if x > 100 else False)\n",
    "\n",
    "df = df.withColumn('open_close', sf.round((sf.col('open') - sf.col('close')), 2))\n",
    "df = df.withColumn('high_low', sf.round((sf.col('high') - sf.col('low')), 2))\n",
    "df = df.withColumn('check_volume', check_daily_volume(sf.col('volume')))\n",
    "\n",
    "# abs value of open_close:\n",
    "df = df.withColumn('abs_open_close', sf.abs(sf.col('open_close')))\n",
    "\n",
    "# calculate net_sales columns\n",
    "avg_cols = sf.udf(lambda array: sum(array)/len(array))\n",
    "df = df.withColumn('net_sales', ((sf.col('volume')) * avg_cols((sf.array('open', 'high', 'low', 'close'))) ))\n",
    "\n",
    "# Write into parquet file\n",
    "df.write.parquet('./data/output', mode='overwrite')\n",
    "print('done')"
   ]
  },
  {
   "cell_type": "code",
   "execution_count": 64,
   "metadata": {},
   "outputs": [
    {
     "name": "stdout",
     "output_type": "stream",
     "text": [
      "+-------------------+\n",
      "|avg(abs_open_close)|\n",
      "+-------------------+\n",
      "| 1.7606027500686203|\n",
      "+-------------------+\n",
      "\n",
      "+-------------+\n",
      "|count(volume)|\n",
      "+-------------+\n",
      "|         1638|\n",
      "+-------------+\n",
      "\n",
      "+-----------------+\n",
      "|         avg_open|\n",
      "+-----------------+\n",
      "|126.0496775257701|\n",
      "+-----------------+\n",
      "\n",
      "+---------+\n",
      "|max(high)|\n",
      "+---------+\n",
      "|   306.25|\n",
      "+---------+\n",
      "\n"
     ]
    }
   ],
   "source": [
    "# Find the average of the values in abs_open_close\n",
    "avg_abs = df.select(sf.avg(df.abs_open_close)).show()\n",
    "\n",
    "# count where volume < 100\n",
    "# count = df.select(sf.count(df.check_volume == 'false')).show()\n",
    "\n",
    "temp_df = df.createOrReplaceTempView(\"temp_df\")\n",
    "count = spark.sql(\"SELECT COUNT(volume) FROM temp_df WHERE volume < 100 \").show()\n",
    "\n",
    "# Find the average 'Open' value.\n",
    "avg_open = df.select(sf.avg(df.open).alias('avg_open')).show()\n",
    "\n",
    "# Get the highest 'High' value.\n",
    "max_high = df.select(sf.max(df.high)).show()"
   ]
  }
 ],
 "metadata": {
  "kernelspec": {
   "display_name": "venv",
   "language": "python",
   "name": "python3"
  },
  "language_info": {
   "codemirror_mode": {
    "name": "ipython",
    "version": 3
   },
   "file_extension": ".py",
   "mimetype": "text/x-python",
   "name": "python",
   "nbconvert_exporter": "python",
   "pygments_lexer": "ipython3",
   "version": "3.7.15"
  },
  "orig_nbformat": 4,
  "vscode": {
   "interpreter": {
    "hash": "5764f61ad5e529d37b227a4f0567b66f481f89bd8c15c84067bddf38ce964b1d"
   }
  }
 },
 "nbformat": 4,
 "nbformat_minor": 2
}
